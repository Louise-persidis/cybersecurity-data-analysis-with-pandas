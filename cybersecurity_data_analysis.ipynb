{
 "cells": [
  {
   "cell_type": "markdown",
   "id": "e8da6ed4-617f-40f6-9284-0827d5189f76",
   "metadata": {},
   "source": [
    "# Cybersecurity Data Analysis"
   ]
  },
  {
   "cell_type": "markdown",
   "id": "9409f136-7f34-42ab-9152-8aac05355cff",
   "metadata": {},
   "source": [
    "### A Project in developing a Cybersecurity Data Analysis"
   ]
  },
  {
   "cell_type": "markdown",
   "id": "42e819c1-d39b-4776-86e3-5786e8d07b01",
   "metadata": {
    "scrolled": true
   },
   "source": [
    "##### The purpose of this project is to analyze network traffic data to identify potential security threats, unusual patterns, blocked or allowed connections, and improve cybersecurity monitoring."
   ]
  },
  {
   "cell_type": "markdown",
   "id": "4bcc6309-794f-42d9-9b55-fecf42083cf0",
   "metadata": {},
   "source": [
    "By: Louise M. Persidis\n",
    "\n",
    "louisepersidis20@gmail.com\n",
    "\n",
    "(https://github.com/Louise-persidis)"
   ]
  },
  {
   "cell_type": "markdown",
   "id": "2cdf2adc-6fa4-40c8-9791-633339bd7b50",
   "metadata": {},
   "source": [
    "#### Import Library"
   ]
  },
  {
   "cell_type": "code",
   "execution_count": null,
   "id": "3bd7faa5-bc62-48d8-aff4-7f31d087c3a8",
   "metadata": {},
   "outputs": [],
   "source": [
    "# Import neccessary library\n",
    "import pandas as pd"
   ]
  },
  {
   "cell_type": "markdown",
   "id": "0a743083-68a7-4638-87e2-1b7e526a823c",
   "metadata": {},
   "source": [
    "Explanation: The import pandas as pd statement is used to bring in the Pandas library, which provides powerful tools for data manipulation and analysis. In this project, it enables the processing of network traffic data, analyzing connection timestamps, filtering security events, and detecting anomalies in network activity."
   ]
  },
  {
   "cell_type": "markdown",
   "id": "e75294a4-7a85-49a1-ac69-64b02f61aca1",
   "metadata": {},
   "source": [
    "#### Load dataset from GitHub"
   ]
  },
  {
   "cell_type": "code",
   "execution_count": null,
   "id": "9afe81aa-e424-4a47-b4b7-79402cc10ecb",
   "metadata": {},
   "outputs": [],
   "source": [
    "# Load the dataset from GitHub\n",
    "df = pd.read_csv('https://raw.githubusercontent.com/ritaafrica/data/main/network_traffic_data.csv')"
   ]
  },
  {
   "cell_type": "markdown",
   "id": "cd24ef8e-7b7f-44b9-a3d8-c741fc3499df",
   "metadata": {},
   "source": [
    "Explanation: This section of the code is responsible for loading a network traffic dataset from GitHub into a Pandas DataFrame for analysis."
   ]
  },
  {
   "cell_type": "code",
   "execution_count": 9,
   "id": "a4a370da-adf4-4019-ba53-f3a7495189f6",
   "metadata": {},
   "outputs": [
    {
     "name": "stdout",
     "output_type": "stream",
     "text": [
      "             Timestamp     Source_IP  Destination_IP Protocol   Port  \\\n",
      "0  2025-03-19 13:04:10     10.0.0.15    192.168.1.20      TCP    NaN   \n",
      "1  2025-03-19 13:03:40  192.168.1.13  172.217.169.46     ICMP  443.0   \n",
      "2  2025-03-19 13:03:10      10.0.0.5    203.0.113.99     HTTP  443.0   \n",
      "3  2025-03-19 13:02:40      10.0.0.9    192.168.1.20      TCP    NaN   \n",
      "4  2025-03-19 13:02:10   192.168.1.4  172.217.169.46      FTP    NaN   \n",
      "\n",
      "   Bytes_Sent  Bytes_Received   Status Threat_Level  \n",
      "0        5411            8989  Blocked          Low  \n",
      "1        4999           11808  Allowed       Medium  \n",
      "2        6360           10852  Allowed       Medium  \n",
      "3        4011           14314  Blocked          Low  \n",
      "4        5254            8718  Blocked       Medium  \n"
     ]
    }
   ],
   "source": [
    "# Display the first 5 rows\n",
    "print(df.head(5))"
   ]
  },
  {
   "cell_type": "markdown",
   "id": "0bca6010-a9b3-40c7-8469-66d8bcb8ecd4",
   "metadata": {},
   "source": [
    "Explanation: This code displays the first 5 rows of the dataset to give an overview of its structure and content"
   ]
  },
  {
   "cell_type": "markdown",
   "id": "50718bd0-894d-4cf2-ac4a-fb6e5f40fa20",
   "metadata": {},
   "source": [
    "#### Basic Data Exploration"
   ]
  },
  {
   "cell_type": "code",
   "execution_count": 10,
   "id": "4dec2de5-822b-49fb-a9c8-069324ec67e9",
   "metadata": {},
   "outputs": [
    {
     "name": "stdout",
     "output_type": "stream",
     "text": [
      "Dataset Shape: (1000, 9)\n"
     ]
    }
   ],
   "source": [
    "# Check the number of rows and columns\n",
    "print(f\"Dataset Shape: {df.shape}\")"
   ]
  },
  {
   "cell_type": "markdown",
   "id": "7b9b9a42-6322-48ec-96af-ab3ac7c14374",
   "metadata": {},
   "source": [
    "Explanation: This section displays the number of rows and columns in the dataset."
   ]
  },
  {
   "cell_type": "code",
   "execution_count": 11,
   "id": "b5cffd61-c317-4c41-b406-b8d1116b07e7",
   "metadata": {},
   "outputs": [
    {
     "name": "stdout",
     "output_type": "stream",
     "text": [
      "\n",
      "Column Names: \n",
      "Index(['Timestamp', 'Source_IP', 'Destination_IP', 'Protocol', 'Port',\n",
      "       'Bytes_Sent', 'Bytes_Received', 'Status', 'Threat_Level'],\n",
      "      dtype='object')\n"
     ]
    }
   ],
   "source": [
    "# Get column names\n",
    "print(\"\\nColumn Names: \")\n",
    "print(df.columns)"
   ]
  },
  {
   "cell_type": "markdown",
   "id": "6f6b6777-2e56-4af3-a34b-a54f051024e3",
   "metadata": {},
   "source": [
    "Explanation: This section lists all column names, helping to understand the dataset structure."
   ]
  },
  {
   "cell_type": "code",
   "execution_count": 12,
   "id": "2611dca7-834f-4973-a5fc-05d42c043ee1",
   "metadata": {},
   "outputs": [
    {
     "name": "stdout",
     "output_type": "stream",
     "text": [
      "\n",
      "Dataset Info:\n",
      "<class 'pandas.core.frame.DataFrame'>\n",
      "RangeIndex: 1000 entries, 0 to 999\n",
      "Data columns (total 9 columns):\n",
      " #   Column          Non-Null Count  Dtype  \n",
      "---  ------          --------------  -----  \n",
      " 0   Timestamp       1000 non-null   object \n",
      " 1   Source_IP       1000 non-null   object \n",
      " 2   Destination_IP  1000 non-null   object \n",
      " 3   Protocol        1000 non-null   object \n",
      " 4   Port            874 non-null    float64\n",
      " 5   Bytes_Sent      1000 non-null   int64  \n",
      " 6   Bytes_Received  1000 non-null   int64  \n",
      " 7   Status          1000 non-null   object \n",
      " 8   Threat_Level    1000 non-null   object \n",
      "dtypes: float64(1), int64(2), object(6)\n",
      "memory usage: 70.4+ KB\n",
      "None\n"
     ]
    }
   ],
   "source": [
    "# Display basic info about the dataset\n",
    "print(\"\\nDataset Info:\")\n",
    "print(df.info())"
   ]
  },
  {
   "cell_type": "markdown",
   "id": "1bb55466-f16e-46fa-9252-6aea4557f902",
   "metadata": {},
   "source": [
    "Explanation: This section shows the data types, non-null values, and memory usage, which helps identify missing values and data types."
   ]
  },
  {
   "cell_type": "code",
   "execution_count": 13,
   "id": "461b9468-bf92-4772-9b1f-fc6c64d0bf85",
   "metadata": {},
   "outputs": [
    {
     "name": "stdout",
     "output_type": "stream",
     "text": [
      "\n",
      "Summary Statistics:\n",
      "              Port   Bytes_Sent  Bytes_Received\n",
      "count   874.000000  1000.000000     1000.000000\n",
      "mean   1819.739130  5143.572000     7562.659000\n",
      "std    2899.374632  2808.256143     4240.206295\n",
      "min      21.000000   106.000000      102.000000\n",
      "25%      22.000000  2857.000000     4025.500000\n",
      "50%      80.000000  5224.000000     7584.500000\n",
      "75%    3389.000000  7487.750000    11147.750000\n",
      "max    8080.000000  9984.000000    14977.000000\n"
     ]
    }
   ],
   "source": [
    "# Show summary statistics\n",
    "print(\"\\nSummary Statistics:\")\n",
    "print(df.describe())"
   ]
  },
  {
   "cell_type": "markdown",
   "id": "2920c28b-3463-453a-a29b-670597744968",
   "metadata": {},
   "source": [
    "Explanation: This section provides summary statistics (mean, min, max, standard deviation, etc.) for numerical columns, giving insights into data distribution."
   ]
  },
  {
   "cell_type": "markdown",
   "id": "8ed8e59a-61bf-44aa-a7d9-79f01e6c39fe",
   "metadata": {},
   "source": [
    "#### Selecting Specific Columns for Display"
   ]
  },
  {
   "cell_type": "code",
   "execution_count": 15,
   "id": "52cca178-fe51-4cc1-a3d2-3d0b4d0aabfc",
   "metadata": {},
   "outputs": [
    {
     "name": "stdout",
     "output_type": "stream",
     "text": [
      "             Timestamp     Source_IP  Destination_IP   Status\n",
      "0  2025-03-19 13:04:10     10.0.0.15    192.168.1.20  Blocked\n",
      "1  2025-03-19 13:03:40  192.168.1.13  172.217.169.46  Allowed\n",
      "2  2025-03-19 13:03:10      10.0.0.5    203.0.113.99  Allowed\n",
      "3  2025-03-19 13:02:40      10.0.0.9    192.168.1.20  Blocked\n",
      "4  2025-03-19 13:02:10   192.168.1.4  172.217.169.46  Blocked\n"
     ]
    }
   ],
   "source": [
    "# Select important columns\n",
    "selected_columns = df[[\"Timestamp\", \"Source_IP\", \"Destination_IP\", \"Status\"]]\n",
    "\n",
    "# Display the first few rows\n",
    "print(selected_columns.head())"
   ]
  },
  {
   "cell_type": "markdown",
   "id": "7f624517-9add-43d2-a2f6-b5e31e7191cf",
   "metadata": {},
   "source": [
    "Explanation: This code extracts and displays key columns from the network traffic dataset for focused analysis."
   ]
  },
  {
   "cell_type": "markdown",
   "id": "cff1b751-4716-41ee-924f-844ebd8bab5b",
   "metadata": {},
   "source": [
    "#### Storing Selected Columns in a New Variable"
   ]
  },
  {
   "cell_type": "code",
   "execution_count": 17,
   "id": "a33b1536-e375-4283-abbb-ba86dbbc5f29",
   "metadata": {},
   "outputs": [
    {
     "name": "stdout",
     "output_type": "stream",
     "text": [
      "      Source_IP  Destination_IP Protocol Threat_Level\n",
      "0     10.0.0.15    192.168.1.20      TCP          Low\n",
      "1  192.168.1.13  172.217.169.46     ICMP       Medium\n",
      "2      10.0.0.5    203.0.113.99     HTTP       Medium\n",
      "3      10.0.0.9    192.168.1.20      TCP          Low\n",
      "4   192.168.1.4  172.217.169.46      FTP       Medium\n"
     ]
    }
   ],
   "source": [
    "# Store a single column as a Series\n",
    "source_ips = df[\"Source_IP\"]\n",
    "\n",
    "# Store multiple columns in a DataFrame\n",
    "network_activity = df[[\"Source_IP\", \"Destination_IP\", \"Protocol\", \"Threat_Level\"]]\n",
    "\n",
    "# Dispaly the first few rows\n",
    "print(network_activity.head())"
   ]
  },
  {
   "cell_type": "markdown",
   "id": "cf958896-a5f9-423d-a712-879980745819",
   "metadata": {},
   "source": [
    "Explanation: This code is used to extract specific data from the network traffic dataset by storing a single column as a Series and multiple columns as a DataFrame for further analysis."
   ]
  },
  {
   "cell_type": "markdown",
   "id": "5c227f46-53b4-4fb1-9b98-6b0ca6bff133",
   "metadata": {},
   "source": [
    "#### Filtering Data - Selecting & Storing Blocked Traffic"
   ]
  },
  {
   "cell_type": "code",
   "execution_count": 26,
   "id": "cdce44d9-5a3f-4600-a544-3c884ee52faa",
   "metadata": {},
   "outputs": [
    {
     "name": "stdout",
     "output_type": "stream",
     "text": [
      "              Timestamp    Source_IP  Destination_IP   Status Threat_Level\n",
      "0   2025-03-19 13:04:10    10.0.0.15    192.168.1.20  Blocked          Low\n",
      "3   2025-03-19 13:02:40     10.0.0.9    192.168.1.20  Blocked          Low\n",
      "4   2025-03-19 13:02:10  192.168.1.4  172.217.169.46  Blocked       Medium\n",
      "9   2025-03-19 12:59:40    10.0.0.43        10.0.0.5  Blocked          Low\n",
      "10  2025-03-19 12:59:10    10.0.0.33    203.0.113.99  Blocked       Medium\n"
     ]
    }
   ],
   "source": [
    "# Filter only blocked traffic\n",
    "blocked_traffic = df[df[\"Status\"] == \"Blocked\"]\n",
    "\n",
    "# Select key details for analysis\n",
    "blocked_summary = blocked_traffic[[\"Timestamp\", \"Source_IP\", \"Destination_IP\", \"Status\", \"Threat_Level\"]]\n",
    "\n",
    "# Display the first few rows\n",
    "print(blocked_summary.head())"
   ]
  },
  {
   "cell_type": "markdown",
   "id": "deb387fd-41ad-45d3-962c-21c622d19c87",
   "metadata": {},
   "source": [
    "Explanation: This code filters and analyzes blocked network traffic, focusing on key details that could indicate potential security threats. It identifies potential cyber threats by isolating blocked traffic, assists in network security monitoring by tracking suspicious activities, and also provides insights into frequent attackers or high-threat connections."
   ]
  },
  {
   "cell_type": "markdown",
   "id": "75ffda5b-897a-4a04-93c4-2ee96e694270",
   "metadata": {},
   "source": [
    "#### Filtering Suspicious Traffic"
   ]
  },
  {
   "cell_type": "code",
   "execution_count": 25,
   "id": "8827aaf9-b5c4-4bb2-a1cd-c6e8aed3a79d",
   "metadata": {},
   "outputs": [
    {
     "name": "stdout",
     "output_type": "stream",
     "text": [
      "               Timestamp     Source_IP  Destination_IP Protocol    Port  \\\n",
      "59   2025-03-19 12:34:40     10.0.0.47    192.168.1.20     ICMP     NaN   \n",
      "96   2025-03-19 12:16:10  192.168.1.35    203.0.113.99      FTP  8080.0   \n",
      "134  2025-03-19 11:57:10  192.168.1.17  172.217.169.46      DNS    22.0   \n",
      "150  2025-03-19 11:49:10  192.168.1.42        10.0.0.5     HTTP    53.0   \n",
      "209  2025-03-19 11:19:40     10.0.0.17    203.0.113.99      TCP  3389.0   \n",
      "\n",
      "     Bytes_Sent  Bytes_Received   Status Threat_Level  \n",
      "59         5885             463  Allowed     Critical  \n",
      "96         9371            7189  Allowed     Critical  \n",
      "134        6714           13124  Blocked     Critical  \n",
      "150        2702             634  Allowed     Critical  \n",
      "209        5085           10014  Blocked     Critical  \n"
     ]
    }
   ],
   "source": [
    "# Filter high-risk (Critical) traffic\n",
    "high_risk_traffic = df[df[\"Threat_Level\"] == \"Critical\"]\n",
    "\n",
    "# Display summary\n",
    "print(high_risk_traffic.head())"
   ]
  },
  {
   "cell_type": "markdown",
   "id": "eebae954-1cfa-40dc-a00b-e2d456ecddce",
   "metadata": {},
   "source": [
    "Explanation: This code filters and analyzes high-risk (Critical) network traffic, focusing on the most severe security threats. It detects and prioritize critical threats for cybersecurity response, assists in incident response by highlighting severe attacks, and also provides insights into patterns of high-risk network activity."
   ]
  },
  {
   "cell_type": "markdown",
   "id": "404b66b9-1e53-4c18-a779-707af8ace842",
   "metadata": {},
   "source": [
    "#### Filtering Traffic with High Data Transfer"
   ]
  },
  {
   "cell_type": "code",
   "execution_count": 31,
   "id": "3b8e8b37-700e-400b-94e5-14e876e3def2",
   "metadata": {},
   "outputs": [
    {
     "name": "stdout",
     "output_type": "stream",
     "text": [
      "             Timestamp     Source_IP  Destination_IP Protocol   Port  \\\n",
      "0  2025-03-19 13:04:10     10.0.0.15    192.168.1.20      TCP    NaN   \n",
      "2  2025-03-19 13:03:10      10.0.0.5    203.0.113.99     HTTP  443.0   \n",
      "4  2025-03-19 13:02:10   192.168.1.4  172.217.169.46      FTP    NaN   \n",
      "5  2025-03-19 13:01:40     10.0.0.43  172.217.169.46      DNS   53.0   \n",
      "7  2025-03-19 13:00:40  192.168.1.36    192.168.1.20      TCP   21.0   \n",
      "\n",
      "   Bytes_Sent  Bytes_Received   Status Threat_Level  \n",
      "0        5411            8989  Blocked          Low  \n",
      "2        6360           10852  Allowed       Medium  \n",
      "4        5254            8718  Blocked       Medium  \n",
      "5        6915           12981  Allowed          Low  \n",
      "7        5655             119  Allowed       Medium  \n",
      "Number of high-data transfers: 518\n"
     ]
    }
   ],
   "source": [
    "# Filter traffic where Bytes_Sent is greater than 5000\n",
    "high_data_transfer = df[df[\"Bytes_Sent\"] > 5000]\n",
    "\n",
    "# Display the first few rows\n",
    "print(high_data_transfer.head())\n",
    "\n",
    "# Show the number of such events\n",
    "print(f\"Number of high-data transfers: {len(high_data_transfer)}\")"
   ]
  },
  {
   "cell_type": "markdown",
   "id": "94293626-a946-4ba3-99eb-ec682e6ba2c7",
   "metadata": {},
   "source": [
    "Explanation: This code is used to identify and analyze network events with unusually high data transfer, which could indicate data exfiltration or other suspicious activity and also, outputs the total number of high-volume data transfer events, helping to assess the scale of potential threats."
   ]
  },
  {
   "cell_type": "markdown",
   "id": "6a2a90a8-1398-4a4f-b87b-79a38432d027",
   "metadata": {},
   "source": [
    "#### Spliting the Dataset into X (Features) and y (Target) Variable"
   ]
  },
  {
   "cell_type": "code",
   "execution_count": 32,
   "id": "27b473ea-efff-4350-8b34-8805fa29abd4",
   "metadata": {},
   "outputs": [
    {
     "name": "stdout",
     "output_type": "stream",
     "text": [
      "Features (X):\n",
      "             Timestamp     Source_IP  Destination_IP Protocol   Port  \\\n",
      "0  2025-03-19 13:04:10     10.0.0.15    192.168.1.20      TCP    NaN   \n",
      "1  2025-03-19 13:03:40  192.168.1.13  172.217.169.46     ICMP  443.0   \n",
      "2  2025-03-19 13:03:10      10.0.0.5    203.0.113.99     HTTP  443.0   \n",
      "3  2025-03-19 13:02:40      10.0.0.9    192.168.1.20      TCP    NaN   \n",
      "4  2025-03-19 13:02:10   192.168.1.4  172.217.169.46      FTP    NaN   \n",
      "\n",
      "   Bytes_Sent  Bytes_Received   Status  \n",
      "0        5411            8989  Blocked  \n",
      "1        4999           11808  Allowed  \n",
      "2        6360           10852  Allowed  \n",
      "3        4011           14314  Blocked  \n",
      "4        5254            8718  Blocked  \n",
      "\n",
      "Target Variable (y):\n",
      "0       Low\n",
      "1    Medium\n",
      "2    Medium\n",
      "3       Low\n",
      "4    Medium\n",
      "Name: Threat_Level, dtype: object\n"
     ]
    }
   ],
   "source": [
    "# Select features (X) - Exclude the target variable\n",
    "X = df.drop(columns=[\"Threat_Level\"])\n",
    "\n",
    "# Select the target variable (y)\n",
    "y = df[\"Threat_Level\"]\n",
    "\n",
    "#  Display the first few rows of X and y\n",
    "print(\"Features (X):\")\n",
    "print(X.head())\n",
    "\n",
    "print(\"\\nTarget Variable (y):\")\n",
    "print(y.head())"
   ]
  },
  {
   "cell_type": "markdown",
   "id": "6537629f-d3b9-4f44-8ebc-03490b3e4abf",
   "metadata": {},
   "source": [
    "Explanation: This section is responsible for preparing the dataset for machine learning or classification tasks by separating the features (inputs) from the target variable (output)."
   ]
  },
  {
   "cell_type": "markdown",
   "id": "c3cdbd19-5e45-49fb-ab0b-ea62b58d1e33",
   "metadata": {},
   "source": [
    "#### Removing a Column"
   ]
  },
  {
   "cell_type": "code",
   "execution_count": 33,
   "id": "3a147c94-0660-40c3-bb0e-591f912e10c7",
   "metadata": {},
   "outputs": [
    {
     "name": "stdout",
     "output_type": "stream",
     "text": [
      "      Source_IP  Destination_IP Protocol   Port  Bytes_Sent  Bytes_Received  \\\n",
      "0     10.0.0.15    192.168.1.20      TCP    NaN        5411            8989   \n",
      "1  192.168.1.13  172.217.169.46     ICMP  443.0        4999           11808   \n",
      "2      10.0.0.5    203.0.113.99     HTTP  443.0        6360           10852   \n",
      "3      10.0.0.9    192.168.1.20      TCP    NaN        4011           14314   \n",
      "4   192.168.1.4  172.217.169.46      FTP    NaN        5254            8718   \n",
      "\n",
      "    Status Threat_Level  \n",
      "0  Blocked          Low  \n",
      "1  Allowed       Medium  \n",
      "2  Allowed       Medium  \n",
      "3  Blocked          Low  \n",
      "4  Blocked       Medium  \n"
     ]
    }
   ],
   "source": [
    "# Remove the 'Timestamp' column\n",
    "df = df.drop(columns=[\"Timestamp\"])\n",
    "\n",
    "# Display the first few rows to confirm\n",
    "print(df.head())"
   ]
  },
  {
   "cell_type": "markdown",
   "id": "49533311-8ec4-41f9-a370-02cd349ba939",
   "metadata": {},
   "source": [
    "Explanation: This code removes the Timestamp column from the dataset to simplify the data structure for further processing."
   ]
  }
 ],
 "metadata": {
  "kernelspec": {
   "display_name": "Python 3 (ipykernel)",
   "language": "python",
   "name": "python3"
  },
  "language_info": {
   "codemirror_mode": {
    "name": "ipython",
    "version": 3
   },
   "file_extension": ".py",
   "mimetype": "text/x-python",
   "name": "python",
   "nbconvert_exporter": "python",
   "pygments_lexer": "ipython3",
   "version": "3.13.1"
  }
 },
 "nbformat": 4,
 "nbformat_minor": 5
}
